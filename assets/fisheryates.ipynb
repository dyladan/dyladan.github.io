{
 "cells": [
  {
   "cell_type": "code",
   "execution_count": 1,
   "metadata": {
    "collapsed": true
   },
   "outputs": [],
   "source": [
    "%matplotlib inline\n",
    "\n",
    "import matplotlib\n",
    "import numpy as np\n",
    "import matplotlib.pyplot as plt"
   ]
  },
  {
   "cell_type": "code",
   "execution_count": 2,
   "metadata": {
    "collapsed": true
   },
   "outputs": [],
   "source": [
    "import random\n",
    "\n",
    "def naive(input):\n",
    "    input = list(input)\n",
    "    n = len(input)\n",
    "    for i in range(n):\n",
    "        j = random.randint(0,n-1)\n",
    "        input[i], input[j] = input[j], input[i]\n",
    "\n",
    "    return \"\".join(input)"
   ]
  },
  {
   "cell_type": "code",
   "execution_count": 3,
   "metadata": {
    "collapsed": false
   },
   "outputs": [
    {
     "name": "stdout",
     "output_type": "stream",
     "text": [
      "{'321': 1462, '213': 1849, '132': 1837, '123': 1534, '231': 1814, '312': 1504}\n"
     ]
    }
   ],
   "source": [
    "c = {\n",
    "    '123': 0,\n",
    "    '132': 0,\n",
    "    '213': 0,\n",
    "    '231': 0,\n",
    "    '312': 0,\n",
    "    '321': 0\n",
    "}\n",
    "\n",
    "for i in range(10000):\n",
    "    c[naive('123')] += 1\n",
    "    \n",
    "print(c)"
   ]
  },
  {
   "cell_type": "code",
   "execution_count": 4,
   "metadata": {
    "collapsed": false
   },
   "outputs": [
    {
     "data": {
      "text/plain": [
       "<matplotlib.text.Text at 0x10a5ca128>"
      ]
     },
     "execution_count": 4,
     "metadata": {},
     "output_type": "execute_result"
    },
    {
     "data": {
      "image/png": "[encoded data removed]",
      "text/plain": [
       "<matplotlib.figure.Figure at 0x10a589278>"
      ]
     },
     "metadata": {},
     "output_type": "display_data"
    }
   ],
   "source": [
    "labels = list(sorted(c.keys()))\n",
    "values = [c[x] for x in labels]\n",
    "y_pos = np.arange(len(values))\n",
    "\n",
    "plt.bar(y_pos, values, align='center', alpha=0.5, color='blue')\n",
    "plt.xticks(y_pos, labels)\n",
    "plt.title(\"Naive Sort\")"
   ]
  },
  {
   "cell_type": "code",
   "execution_count": 5,
   "metadata": {
    "collapsed": true
   },
   "outputs": [],
   "source": [
    "def fisheryates(input):\n",
    "    input = list(input)\n",
    "    l = len(input)\n",
    "    for i in range(l):\n",
    "        j = random.randint(i,l-1)\n",
    "        input[i], input[j] = input[j], input[i]\n",
    "\n",
    "    return \"\".join(input)"
   ]
  },
  {
   "cell_type": "code",
   "execution_count": 6,
   "metadata": {
    "collapsed": false
   },
   "outputs": [
    {
     "name": "stdout",
     "output_type": "stream",
     "text": [
      "{'321': 1625, '213': 1735, '132': 1692, '123': 1640, '231': 1636, '312': 1672}\n"
     ]
    }
   ],
   "source": [
    "c = {\n",
    "    '123': 0,\n",
    "    '132': 0,\n",
    "    '213': 0,\n",
    "    '231': 0,\n",
    "    '312': 0,\n",
    "    '321': 0\n",
    "}\n",
    "\n",
    "for i in range(10000):\n",
    "    c[fisheryates('123')] += 1\n",
    "    \n",
    "print(c)"
   ]
  },
  {
   "cell_type": "code",
   "execution_count": 7,
   "metadata": {
    "collapsed": false
   },
   "outputs": [
    {
     "data": {
      "text/plain": [
       "<matplotlib.text.Text at 0x10a7066d8>"
      ]
     },
     "execution_count": 7,
     "metadata": {},
     "output_type": "execute_result"
    },
    {
     "data": {
      "image/png": "[encoded data removed]",
      "text/plain": [
       "<matplotlib.figure.Figure at 0x10a5a9898>"
      ]
     },
     "metadata": {},
     "output_type": "display_data"
    }
   ],
   "source": [
    "labels = list(sorted(c.keys()))\n",
    "values = [c[x] for x in labels]\n",
    "y_pos = np.arange(len(values))\n",
    "\n",
    "plt.bar(y_pos, values, align='center', alpha=0.5, color='blue')\n",
    "plt.xticks(y_pos, labels)\n",
    "plt.title(\"Fisher-Yates Sort\")"
   ]
  },
  {
   "cell_type": "code",
   "execution_count": null,
   "metadata": {
    "collapsed": true
   },
   "outputs": [],
   "source": []
  }
 ],
 "metadata": {
  "kernelspec": {
   "display_name": "Python 3",
   "language": "python",
   "name": "python3"
  },
  "language_info": {
   "codemirror_mode": {
    "name": "ipython",
    "version": 3
   },
   "file_extension": ".py",
   "mimetype": "text/x-python",
   "name": "python",
   "nbconvert_exporter": "python",
   "pygments_lexer": "ipython3",
   "version": "3.5.1"
  }
 },
 "nbformat": 4,
 "nbformat_minor": 0
}
